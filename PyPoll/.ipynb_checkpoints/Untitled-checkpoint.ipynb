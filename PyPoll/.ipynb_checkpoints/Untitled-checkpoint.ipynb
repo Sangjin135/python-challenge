{
 "cells": [
  {
   "cell_type": "code",
   "execution_count": 1,
   "metadata": {},
   "outputs": [],
   "source": [
    "#import dependencies\n",
    "import pandas as pd"
   ]
  },
  {
   "cell_type": "code",
   "execution_count": 2,
   "metadata": {},
   "outputs": [],
   "source": [
    "#read csv\n",
    "pypoll = pd.read_csv(\"raw_data/election_data_1.csv\")"
   ]
  },
  {
   "cell_type": "code",
   "execution_count": 3,
   "metadata": {},
   "outputs": [],
   "source": [
    "#Total Votes\n",
    "Total_Votes = pypoll[\"Voter ID\"].count()"
   ]
  },
  {
   "cell_type": "code",
   "execution_count": 12,
   "metadata": {},
   "outputs": [
    {
     "data": {
      "text/html": [
       "<div>\n",
       "<style scoped>\n",
       "    .dataframe tbody tr th:only-of-type {\n",
       "        vertical-align: middle;\n",
       "    }\n",
       "\n",
       "    .dataframe tbody tr th {\n",
       "        vertical-align: top;\n",
       "    }\n",
       "\n",
       "    .dataframe thead th {\n",
       "        text-align: right;\n",
       "    }\n",
       "</style>\n",
       "<table border=\"1\" class=\"dataframe\">\n",
       "  <thead>\n",
       "    <tr style=\"text-align: right;\">\n",
       "      <th></th>\n",
       "      <th>Candidate</th>\n",
       "      <th>Votes</th>\n",
       "    </tr>\n",
       "  </thead>\n",
       "  <tbody>\n",
       "    <tr>\n",
       "      <th>0</th>\n",
       "      <td>Vestal</td>\n",
       "      <td>385440</td>\n",
       "    </tr>\n",
       "    <tr>\n",
       "      <th>1</th>\n",
       "      <td>Torres</td>\n",
       "      <td>353320</td>\n",
       "    </tr>\n",
       "    <tr>\n",
       "      <th>2</th>\n",
       "      <td>Seth</td>\n",
       "      <td>40150</td>\n",
       "    </tr>\n",
       "    <tr>\n",
       "      <th>3</th>\n",
       "      <td>Cordin</td>\n",
       "      <td>24090</td>\n",
       "    </tr>\n",
       "  </tbody>\n",
       "</table>\n",
       "</div>"
      ],
      "text/plain": [
       "  Candidate   Votes\n",
       "0    Vestal  385440\n",
       "1    Torres  353320\n",
       "2      Seth   40150\n",
       "3    Cordin   24090"
      ]
     },
     "execution_count": 12,
     "metadata": {},
     "output_type": "execute_result"
    }
   ],
   "source": [
    "#List of candidates with percentage of votes and total number of votes\n",
    "candidatevotes = pd.DataFrame(pypoll[\"Candidate\"].value_counts())\n",
    "\n",
    "candidatevotes = candidatevotes.reset_index()\n",
    "\n",
    "candidatevotes = candidatevotes.rename(columns={\"index\": \"Candidate\", \"Candidate\": \"Votes\"})\n",
    "\n",
    "candidatevotes.head()"
   ]
  },
  {
   "cell_type": "code",
   "execution_count": 19,
   "metadata": {},
   "outputs": [],
   "source": [
    "#The winner of the election based on popular vote\n",
    "topvotes = candidatevotes[\"Votes\"].max()\n",
    "Winner = candidatevotes[\"Candidate\"].loc[candidatevotes[\"Votes\"] == topvotes]"
   ]
  },
  {
   "cell_type": "code",
   "execution_count": 20,
   "metadata": {},
   "outputs": [
    {
     "name": "stdout",
     "output_type": "stream",
     "text": [
      "Election Results\n",
      "--------------------\n",
      "Total Votes: 803000\n",
      "--------------------\n",
      "  Candidate   Votes\n",
      "0    Vestal  385440\n",
      "1    Torres  353320\n",
      "2      Seth   40150\n",
      "3    Cordin   24090\n",
      "--------------------\n",
      "Winner: 0    Vestal\n",
      "Name: Candidate, dtype: object\n",
      "--------------------\n"
     ]
    }
   ],
   "source": [
    "#Print out the results\n",
    "print(\"Election Results\")\n",
    "print(\"--------------------\")\n",
    "print(\"Total Votes: \" + str(Total_Votes))\n",
    "print(\"--------------------\")\n",
    "print(candidatevotes)\n",
    "print(\"--------------------\")\n",
    "print(\"Winner: \" + str(Winner))\n",
    "print(\"--------------------\")"
   ]
  },
  {
   "cell_type": "code",
   "execution_count": null,
   "metadata": {},
   "outputs": [],
   "source": [
    "#Print results to external file"
   ]
  },
  {
   "cell_type": "code",
   "execution_count": null,
   "metadata": {},
   "outputs": [],
   "source": []
  }
 ],
 "metadata": {
  "kernelspec": {
   "display_name": "Python 3",
   "language": "python",
   "name": "python3"
  },
  "language_info": {
   "codemirror_mode": {
    "name": "ipython",
    "version": 3
   },
   "file_extension": ".py",
   "mimetype": "text/x-python",
   "name": "python",
   "nbconvert_exporter": "python",
   "pygments_lexer": "ipython3",
   "version": "3.6.4"
  }
 },
 "nbformat": 4,
 "nbformat_minor": 2
}
