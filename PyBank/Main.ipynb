{
 "cells": [
  {
   "cell_type": "code",
   "execution_count": 1,
   "metadata": {},
   "outputs": [],
   "source": [
    "#import dependencies\n",
    "import pandas as pd"
   ]
  },
  {
   "cell_type": "code",
   "execution_count": 2,
   "metadata": {},
   "outputs": [],
   "source": [
    "#Read CSV\n",
    "pybank = pd.read_csv(\"raw_data/budget_data_1.csv\")"
   ]
  },
  {
   "cell_type": "code",
   "execution_count": 3,
   "metadata": {},
   "outputs": [],
   "source": [
    "#Print Total number of months\n",
    "pydate = pybank[[\"Date\"]].count()"
   ]
  },
  {
   "cell_type": "code",
   "execution_count": 4,
   "metadata": {},
   "outputs": [],
   "source": [
    "#Print Total Revenue\n",
    "pyrev = pybank[[\"Revenue\"]].sum()"
   ]
  },
  {
   "cell_type": "code",
   "execution_count": 6,
   "metadata": {},
   "outputs": [],
   "source": [
    "#Print Average Revenue Change\n",
    "pyavgrev = pybank[[\"Revenue\"]].mean()"
   ]
  },
  {
   "cell_type": "code",
   "execution_count": 7,
   "metadata": {},
   "outputs": [],
   "source": [
    "#The Greatest Increase in Revenue (date and amount) over the entire period\n",
    "bankmax = pybank[[\"Revenue\"]].max()"
   ]
  },
  {
   "cell_type": "code",
   "execution_count": 8,
   "metadata": {},
   "outputs": [],
   "source": [
    "#The greatest decrease in revenue (date and amount) over the entire period\n",
    "bankmin = pybank[[\"Revenue\"]].min()\n"
   ]
  },
  {
   "cell_type": "code",
   "execution_count": 15,
   "metadata": {},
   "outputs": [
    {
     "name": "stdout",
     "output_type": "stream",
     "text": [
      "Financial Analysis\n",
      "-------------------\n",
      "Total Months: Date    41\n",
      "dtype: int64\n",
      "Total Revenue: Revenue    18971412\n",
      "dtype: int64\n",
      "Average Revenue Change: Revenue    462717.365854\n",
      "dtype: float64\n",
      "Greatest Increase in Revenue: Revenue    1195111\n",
      "dtype: int64\n",
      "Greatest Decrease in Revenue: Revenue   -1172384\n",
      "dtype: int64\n"
     ]
    }
   ],
   "source": [
    "print(\"Financial Analysis\")\n",
    "print(\"-------------------\")\n",
    "print(\"Total Months: \" + str(pydate))\n",
    "print(\"Total Revenue: \" + str(pyrev))\n",
    "print(\"Average Revenue Change: \" + str(pyavgrev))\n",
    "print(\"Greatest Increase in Revenue: \" + str(bankmax))\n",
    "print(\"Greatest Decrease in Revenue: \" + str(bankmin))"
   ]
  },
  {
   "cell_type": "code",
   "execution_count": null,
   "metadata": {},
   "outputs": [],
   "source": []
  },
  {
   "cell_type": "code",
   "execution_count": null,
   "metadata": {},
   "outputs": [],
   "source": [
    "#Export a file with the results"
   ]
  }
 ],
 "metadata": {
  "kernelspec": {
   "display_name": "Python 3",
   "language": "python",
   "name": "python3"
  },
  "language_info": {
   "codemirror_mode": {
    "name": "ipython",
    "version": 3
   },
   "file_extension": ".py",
   "mimetype": "text/x-python",
   "name": "python",
   "nbconvert_exporter": "python",
   "pygments_lexer": "ipython3",
   "version": "3.6.4"
  }
 },
 "nbformat": 4,
 "nbformat_minor": 2
}
